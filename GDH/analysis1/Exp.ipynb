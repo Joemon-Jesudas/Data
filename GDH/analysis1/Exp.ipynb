{
 "cells": [
  {
   "cell_type": "code",
   "execution_count": 2,
   "id": "e641259c-8f5a-4245-8402-a340daaf34ad",
   "metadata": {},
   "outputs": [],
   "source": [
    "import pandas as pd\n",
    "import numpy\n",
    "import os\n",
    "from sklearn.ensemble import GradientBoostingRegressor\n",
    "# from sklearn.inspection import permutation_importance\n",
    "from sklearn import metrics\n",
    "from sklearn.model_selection import cross_val_score, KFold, GridSearchCV\n",
    "from sklearn.metrics import make_scorer, r2_score,  mean_squared_log_error, mean_absolute_error, mean_squared_error,mean_squared_log_error\n",
    "from sklearn.utils import shuffle\n",
    "from sklearn.model_selection import train_test_split\n",
    "from sklearn.ensemble import RandomForestClassifier"
   ]
  },
  {
   "cell_type": "code",
   "execution_count": 3,
   "id": "dca647ec-f50a-4ff9-bcf3-068b963f2a82",
   "metadata": {},
   "outputs": [],
   "source": [
    "uk_data =pd.read_excel('UK.xlsx')"
   ]
  },
  {
   "cell_type": "code",
   "execution_count": 68,
   "id": "573eb124-6a52-4bf1-8f06-b1219d07c666",
   "metadata": {},
   "outputs": [],
   "source": [
    "germ_data =pd.read_excel('germ.xlsx')"
   ]
  },
  {
   "cell_type": "code",
   "execution_count": 69,
   "id": "71e823ea-b16d-405b-9e58-e352cd6c9f06",
   "metadata": {},
   "outputs": [
    {
     "data": {
      "text/plain": [
       "Index(['Manufacturer Identification Number', 'Model Identification Numer',\n",
       "       'No. Of Driving Axles', 'max. Length', 'max. Width', 'max. Height',\n",
       "       'max. Gross Vehicle Weight', 'Manufacturer', 'Commercial Name', 'Type',\n",
       "       'Wheelbase', 'Power/Weight Ratio', 'Seats', 'Fuel Code',\n",
       "       'max. Top Speed', 'Fuel Type'],\n",
       "      dtype='object')"
      ]
     },
     "execution_count": 69,
     "metadata": {},
     "output_type": "execute_result"
    }
   ],
   "source": [
    "germ_data.columns"
   ]
  },
  {
   "cell_type": "code",
   "execution_count": 71,
   "id": "e6b7cb0e",
   "metadata": {},
   "outputs": [
    {
     "data": {
      "text/plain": [
       "(83615, 16)"
      ]
     },
     "execution_count": 71,
     "metadata": {},
     "output_type": "execute_result"
    }
   ],
   "source": [
    "germ_data.shape"
   ]
  },
  {
   "cell_type": "code",
   "execution_count": 72,
   "id": "a7a9b42c",
   "metadata": {},
   "outputs": [
    {
     "data": {
      "text/plain": [
       "(17856, 28)"
      ]
     },
     "execution_count": 72,
     "metadata": {},
     "output_type": "execute_result"
    }
   ],
   "source": [
    "uk_data.shape"
   ]
  },
  {
   "cell_type": "code",
   "execution_count": 70,
   "id": "2966ed5b-9ac1-461a-bd2b-4dcc902e827d",
   "metadata": {},
   "outputs": [
    {
     "data": {
      "text/plain": [
       "Index(['Vehicle Type', 'Manufacturer', 'Model', 'Series', 'ABI Code',\n",
       "       'Wheel Base Length', 'Roof Height Type', 'Number Of Seats',\n",
       "       'Total Height', 'Total Length', 'Total Width', 'Kerb Weight',\n",
       "       'Gross Weight', 'Max Payload', 'Torque', 'Max Speed', 'Acceleration',\n",
       "       'Power Output', 'Fuel Type', 'Secondary Fuel Type', 'ABI Description',\n",
       "       'Vehicle Import Type', 'AEB Type', 'List Price',\n",
       "       'Enhanced Vehicle Description', 'Battery Lease', 'CO2 Emissions G/KM',\n",
       "       'Electric Vehicle Type'],\n",
       "      dtype='object')"
      ]
     },
     "execution_count": 70,
     "metadata": {},
     "output_type": "execute_result"
    }
   ],
   "source": [
    "uk_data.columns"
   ]
  },
  {
   "cell_type": "code",
   "execution_count": 7,
   "id": "3b3f7db9-b975-4b55-a0bd-e7b08592c315",
   "metadata": {},
   "outputs": [
    {
     "name": "stdout",
     "output_type": "stream",
     "text": [
      "Number of missing values present in each feature are: \n",
      "Manufacturer Identification Number        0\n",
      "Model Identification Numer                0\n",
      "No. Of Driving Axles                  18697\n",
      "max. Length                           10791\n",
      "max. Width                            10841\n",
      "max. Height                           10989\n",
      "max. Gross Vehicle Weight                 0\n",
      "Manufacturer                          53155\n",
      "Commercial Name                        1312\n",
      "Type                                      6\n",
      "Wheelbase                             15074\n",
      "Power/Weight Ratio                    11188\n",
      "Seats                                 13392\n",
      "Fuel Code                             11865\n",
      "max. Top Speed                        12410\n",
      "Fuel Type                             11875\n",
      "dtype: int64\n"
     ]
    }
   ],
   "source": [
    "n_missing = germ_data.isna().sum()\n",
    "print(f\"Number of missing values present in each feature are: \\n{n_missing}\")"
   ]
  },
  {
   "cell_type": "code",
   "execution_count": 73,
   "id": "9a329e64-5597-4b1d-959d-def6e58fc13d",
   "metadata": {},
   "outputs": [
    {
     "data": {
      "text/plain": [
       "array(['Typ', 'M 100', 'MR 100;LUXUS MR100', ..., 'L20H', 'L25H',\n",
       "       'EWR170'], dtype=object)"
      ]
     },
     "execution_count": 73,
     "metadata": {},
     "output_type": "execute_result"
    }
   ],
   "source": [
    "germ_data['Type'].unique()"
   ]
  },
  {
   "cell_type": "code",
   "execution_count": 74,
   "id": "e7add023-2ff2-4680-8d12-3cce0e52d4db",
   "metadata": {},
   "outputs": [],
   "source": [
    "uk_data.rename(columns = {'Primary Fuel Type':'Fuel Type'},inplace = True)"
   ]
  },
  {
   "cell_type": "code",
   "execution_count": 75,
   "id": "ad303829-6ef5-4952-b344-b112e5578559",
   "metadata": {},
   "outputs": [],
   "source": [
    "germ_data=germ_data.drop(index=0,axis=0)"
   ]
  },
  {
   "cell_type": "code",
   "execution_count": 76,
   "id": "7980c6bb",
   "metadata": {},
   "outputs": [
    {
     "data": {
      "text/plain": [
       "(83614, 16)"
      ]
     },
     "execution_count": 76,
     "metadata": {},
     "output_type": "execute_result"
    }
   ],
   "source": [
    "germ_data.shape"
   ]
  },
  {
   "cell_type": "code",
   "execution_count": 77,
   "id": "88de50d1-31dc-4ea0-8952-77ed8ee8a8d3",
   "metadata": {},
   "outputs": [],
   "source": [
    "germ_data = germ_data.dropna(subset=['Fuel Type'])"
   ]
  },
  {
   "cell_type": "code",
   "execution_count": 78,
   "id": "203864d3",
   "metadata": {},
   "outputs": [
    {
     "data": {
      "text/plain": [
       "(71739, 16)"
      ]
     },
     "execution_count": 78,
     "metadata": {},
     "output_type": "execute_result"
    }
   ],
   "source": [
    "germ_data.shape"
   ]
  },
  {
   "cell_type": "code",
   "execution_count": 79,
   "id": "5624dc89-78df-4488-a6cb-9f64ac2397b1",
   "metadata": {},
   "outputs": [
    {
     "data": {
      "text/plain": [
       "array(['Petrol', '\\xa0Diesel', 'Hybrid Petrol/Electric', 'Electric',\n",
       "       'Hybrid LPG/PHEV', 'Petrol/Compressed Natural Gas',\n",
       "       'Multi-substance', 'Natural Gas', 'Petrol/Liquid gas',\n",
       "       'Hybrid Petrol/PHEV', 'Hybrid Hydrogen/PHEV',\n",
       "       'Hybrid Diesel/Electric', 'Hydrogen/FC', 'LPG',\n",
       "       'Hybrid LPG/Electric', 'Hybrid Hydrogen/FC/PHEV'], dtype=object)"
      ]
     },
     "execution_count": 79,
     "metadata": {},
     "output_type": "execute_result"
    }
   ],
   "source": [
    "germ_data['Fuel Type'].unique()"
   ]
  },
  {
   "cell_type": "code",
   "execution_count": 82,
   "id": "270c838b-524b-4804-be91-5fefd1a4a1d8",
   "metadata": {},
   "outputs": [],
   "source": [
    "germ_data['Fuel Type'] = germ_data['Fuel Type'].str.upper()"
   ]
  },
  {
   "cell_type": "code",
   "execution_count": 83,
   "id": "d863adb9-c279-414c-9fc7-499a3a8915cb",
   "metadata": {},
   "outputs": [],
   "source": [
    "germ_data.drop(germ_data[germ_data['Fuel Type'] == '\\xa0DIESEL'].index,inplace=True)\n",
    "germ_data.drop(germ_data[germ_data['Fuel Type'] == 'HYBRID LPG/PHEV'].index,inplace=True)\n",
    "germ_data.drop(germ_data[germ_data['Fuel Type'] == 'MULTI-SUBSTANCE'].index,inplace=True)\n",
    "germ_data.drop(germ_data[germ_data['Fuel Type'] == 'NATURAL GAS'].index,inplace=True)\n",
    "germ_data.drop(germ_data[germ_data['Fuel Type'] == 'LPG'].index,inplace=True)\n",
    "germ_data.drop(germ_data[germ_data['Fuel Type'] == 'HYBRID LPG/ELECTRIC'].index,inplace=True)"
   ]
  },
  {
   "cell_type": "code",
   "execution_count": 84,
   "id": "c940f9c5-dc7b-40e0-9a1a-528c11ed3fd2",
   "metadata": {},
   "outputs": [
    {
     "data": {
      "text/plain": [
       "array(['PETROL', 'HYBRID PETROL/ELECTRIC', 'ELECTRIC',\n",
       "       'PETROL/COMPRESSED NATURAL GAS', 'PETROL/LIQUID GAS',\n",
       "       'HYBRID PETROL/PHEV', 'HYBRID HYDROGEN/PHEV',\n",
       "       'HYBRID DIESEL/ELECTRIC', 'HYDROGEN/FC', 'HYBRID HYDROGEN/FC/PHEV'],\n",
       "      dtype=object)"
      ]
     },
     "execution_count": 84,
     "metadata": {},
     "output_type": "execute_result"
    }
   ],
   "source": [
    "germ_data['Fuel Type'].unique()"
   ]
  },
  {
   "cell_type": "code",
   "execution_count": 85,
   "id": "64684ab3-119f-4d53-b6c2-c2db6c7aac05",
   "metadata": {},
   "outputs": [],
   "source": [
    "germ_data.replace({'HYBRID PETROL/ELECTRIC': 'PETROL',\n",
    "                  'PETROL/COMPRESSED NATURAL GAS':'PETROL',\n",
    "                  'PETROL/LIQUID GAS':'PETROL',\n",
    "                  'HYBRID PETROL/PHEV':'PETROL',\n",
    "                  'HYBRID HYDROGEN/PHEV':'HYDROGEN',\n",
    "                  'HYBRID DIESEL/ELECTRIC':'DIESEL',\n",
    "                  'HYDROGEN/FC':'HYDROGEN',\n",
    "                  'HYBRID HYDROGEN/FC/PHEV':'HYDROGEN',\n",
    "                  },inplace=True)"
   ]
  },
  {
   "cell_type": "code",
   "execution_count": 86,
   "id": "fe366418-cba0-443c-97e0-4908b89fd761",
   "metadata": {},
   "outputs": [],
   "source": [
    "for i in uk_data['Fuel Type'].unique():\n",
    "    for j in germ_data['Fuel Type']:\n",
    "        if i in j:\n",
    "            germ_data['Fuel Type'] = germ_data['Fuel Type'].replace (j,i)"
   ]
  },
  {
   "cell_type": "code",
   "execution_count": 18,
   "id": "05276060-ed7d-4b5f-b2a6-90f08651900d",
   "metadata": {},
   "outputs": [],
   "source": [
    "germ_data = germ_data.dropna(subset=['Manufacturer'])"
   ]
  },
  {
   "cell_type": "code",
   "execution_count": 19,
   "id": "e1056d2c-c9a1-4361-9e0f-63006f656017",
   "metadata": {},
   "outputs": [],
   "source": [
    "germ_data['Manufacturer'] = germ_data['Manufacturer'].str.upper()"
   ]
  },
  {
   "cell_type": "code",
   "execution_count": 20,
   "id": "5c79b4ce-fa62-43c4-be7a-2eb5efdea49b",
   "metadata": {},
   "outputs": [],
   "source": [
    "for i in uk_data['Manufacturer'].unique():\n",
    "    for j in germ_data['Manufacturer']:\n",
    "        if i in j:\n",
    "            germ_data['Manufacturer'] = germ_data['Manufacturer'].replace (j,i)"
   ]
  },
  {
   "cell_type": "code",
   "execution_count": 21,
   "id": "a8057ace-2185-4a19-be75-7af005428797",
   "metadata": {},
   "outputs": [
    {
     "data": {
      "text/plain": [
       "(17856, 28)"
      ]
     },
     "execution_count": 21,
     "metadata": {},
     "output_type": "execute_result"
    }
   ],
   "source": [
    "uk_data.shape"
   ]
  },
  {
   "cell_type": "code",
   "execution_count": 22,
   "id": "e0130167-484d-4c7e-9898-504ddd55fa94",
   "metadata": {},
   "outputs": [
    {
     "data": {
      "text/plain": [
       "(10652, 16)"
      ]
     },
     "execution_count": 22,
     "metadata": {},
     "output_type": "execute_result"
    }
   ],
   "source": [
    "germ_data.shape"
   ]
  },
  {
   "cell_type": "code",
   "execution_count": 23,
   "id": "03a84efa-e89c-4ace-9e49-2485dc0aa5b0",
   "metadata": {},
   "outputs": [],
   "source": [
    "germ_data = germ_data.loc[(germ_data['max. Length'] >=1450) & (germ_data['max. Length'] <=6000)]"
   ]
  },
  {
   "cell_type": "code",
   "execution_count": 24,
   "id": "626a9cf6-2dbe-4d09-ac6a-63edcbc6e6c9",
   "metadata": {},
   "outputs": [],
   "source": [
    "germ_data = germ_data.loc[(germ_data['max. Width'] >=1372) & (germ_data['max. Width'] <=2650)]"
   ]
  },
  {
   "cell_type": "code",
   "execution_count": 25,
   "id": "efa243c9-c898-4285-9334-b8e51e3b6869",
   "metadata": {},
   "outputs": [],
   "source": [
    "germ_data = germ_data.loc[(germ_data['max. Gross Vehicle Weight'] >=1148) & (germ_data['max. Gross Vehicle Weight'] <=4000)]"
   ]
  },
  {
   "cell_type": "code",
   "execution_count": 26,
   "id": "8f24d051-8692-45f8-9b1e-b42d74947f4d",
   "metadata": {},
   "outputs": [
    {
     "data": {
      "text/plain": [
       "(8043, 16)"
      ]
     },
     "execution_count": 26,
     "metadata": {},
     "output_type": "execute_result"
    }
   ],
   "source": [
    "germ_data.shape"
   ]
  },
  {
   "cell_type": "code",
   "execution_count": 31,
   "id": "bd4c3694-7dd1-429c-b9a0-ec0c3744fe16",
   "metadata": {},
   "outputs": [],
   "source": [
    "# germ_data.to_csv('23.csv')"
   ]
  },
  {
   "cell_type": "code",
   "execution_count": 27,
   "id": "5e709345",
   "metadata": {},
   "outputs": [],
   "source": [
    "# importing the ger-co2 file\n",
    "germ_data_modelname=pd.read_excel(r'ger-co2.xlsx', sheet_name= 'mapped_ger')"
   ]
  },
  {
   "cell_type": "code",
   "execution_count": 55,
   "id": "d9cce050",
   "metadata": {},
   "outputs": [
    {
     "data": {
      "text/html": [
       "<div>\n",
       "<style scoped>\n",
       "    .dataframe tbody tr th:only-of-type {\n",
       "        vertical-align: middle;\n",
       "    }\n",
       "\n",
       "    .dataframe tbody tr th {\n",
       "        vertical-align: top;\n",
       "    }\n",
       "\n",
       "    .dataframe thead th {\n",
       "        text-align: right;\n",
       "    }\n",
       "</style>\n",
       "<table border=\"1\" class=\"dataframe\">\n",
       "  <thead>\n",
       "    <tr style=\"text-align: right;\">\n",
       "      <th></th>\n",
       "      <th>Unnamed: 0</th>\n",
       "      <th>Manufacturer Identification Number</th>\n",
       "      <th>Model Identification Numer</th>\n",
       "      <th>No. Of Driving Axles</th>\n",
       "      <th>max. Length</th>\n",
       "      <th>max. Width</th>\n",
       "      <th>max. Height</th>\n",
       "      <th>max. Gross Vehicle Weight</th>\n",
       "      <th>Manufacturer</th>\n",
       "      <th>Commercial Name</th>\n",
       "      <th>Type</th>\n",
       "      <th>Wheelbase</th>\n",
       "      <th>Power/Weight Ratio</th>\n",
       "      <th>Seats</th>\n",
       "      <th>Fuel Code</th>\n",
       "      <th>max. Top Speed</th>\n",
       "      <th>Fuel Type</th>\n",
       "      <th>Commercial Name New</th>\n",
       "    </tr>\n",
       "  </thead>\n",
       "  <tbody>\n",
       "    <tr>\n",
       "      <th>0</th>\n",
       "      <td>40</td>\n",
       "      <td>5</td>\n",
       "      <td>AAA</td>\n",
       "      <td>1.0</td>\n",
       "      <td>4091</td>\n",
       "      <td>1781</td>\n",
       "      <td>1299</td>\n",
       "      <td>1640</td>\n",
       "      <td>BMW</td>\n",
       "      <td>Z Reihe</td>\n",
       "      <td>Z85</td>\n",
       "      <td>2495.0</td>\n",
       "      <td>0.139286</td>\n",
       "      <td>2</td>\n",
       "      <td>1</td>\n",
       "      <td>250.0</td>\n",
       "      <td>PETROL</td>\n",
       "      <td>Z Reihe</td>\n",
       "    </tr>\n",
       "    <tr>\n",
       "      <th>1</th>\n",
       "      <td>41</td>\n",
       "      <td>5</td>\n",
       "      <td>AAB</td>\n",
       "      <td>1.0</td>\n",
       "      <td>4091</td>\n",
       "      <td>1781</td>\n",
       "      <td>1299</td>\n",
       "      <td>1600</td>\n",
       "      <td>BMW</td>\n",
       "      <td>Z Reihe</td>\n",
       "      <td>Z85</td>\n",
       "      <td>2495.0</td>\n",
       "      <td>0.095588</td>\n",
       "      <td>2</td>\n",
       "      <td>1</td>\n",
       "      <td>229.0</td>\n",
       "      <td>PETROL</td>\n",
       "      <td>Z Reihe</td>\n",
       "    </tr>\n",
       "    <tr>\n",
       "      <th>2</th>\n",
       "      <td>42</td>\n",
       "      <td>5</td>\n",
       "      <td>AAC</td>\n",
       "      <td>1.0</td>\n",
       "      <td>4091</td>\n",
       "      <td>1781</td>\n",
       "      <td>1299</td>\n",
       "      <td>1620</td>\n",
       "      <td>BMW</td>\n",
       "      <td>Z Reihe</td>\n",
       "      <td>Z85</td>\n",
       "      <td>2495.0</td>\n",
       "      <td>0.116152</td>\n",
       "      <td>2</td>\n",
       "      <td>1</td>\n",
       "      <td>240.0</td>\n",
       "      <td>PETROL</td>\n",
       "      <td>Z Reihe</td>\n",
       "    </tr>\n",
       "    <tr>\n",
       "      <th>3</th>\n",
       "      <td>43</td>\n",
       "      <td>5</td>\n",
       "      <td>AAD</td>\n",
       "      <td>1.0</td>\n",
       "      <td>4091</td>\n",
       "      <td>1781</td>\n",
       "      <td>1299</td>\n",
       "      <td>1620</td>\n",
       "      <td>BMW</td>\n",
       "      <td>Z Reihe</td>\n",
       "      <td>Z85</td>\n",
       "      <td>2495.0</td>\n",
       "      <td>0.112523</td>\n",
       "      <td>2</td>\n",
       "      <td>1</td>\n",
       "      <td>240.0</td>\n",
       "      <td>PETROL</td>\n",
       "      <td>Z Reihe</td>\n",
       "    </tr>\n",
       "    <tr>\n",
       "      <th>4</th>\n",
       "      <td>44</td>\n",
       "      <td>5</td>\n",
       "      <td>AAE</td>\n",
       "      <td>1.0</td>\n",
       "      <td>4239</td>\n",
       "      <td>1748</td>\n",
       "      <td>1421</td>\n",
       "      <td>1800</td>\n",
       "      <td>BMW</td>\n",
       "      <td>1er Reihe</td>\n",
       "      <td>187</td>\n",
       "      <td>2660.0</td>\n",
       "      <td>0.077348</td>\n",
       "      <td>5</td>\n",
       "      <td>1</td>\n",
       "      <td>210.0</td>\n",
       "      <td>PETROL</td>\n",
       "      <td>NaN</td>\n",
       "    </tr>\n",
       "  </tbody>\n",
       "</table>\n",
       "</div>"
      ],
      "text/plain": [
       "   Unnamed: 0  Manufacturer Identification Number Model Identification Numer  \\\n",
       "0          40                                   5                        AAA   \n",
       "1          41                                   5                        AAB   \n",
       "2          42                                   5                        AAC   \n",
       "3          43                                   5                        AAD   \n",
       "4          44                                   5                        AAE   \n",
       "\n",
       "   No. Of Driving Axles  max. Length  max. Width  max. Height  \\\n",
       "0                   1.0         4091        1781         1299   \n",
       "1                   1.0         4091        1781         1299   \n",
       "2                   1.0         4091        1781         1299   \n",
       "3                   1.0         4091        1781         1299   \n",
       "4                   1.0         4239        1748         1421   \n",
       "\n",
       "   max. Gross Vehicle Weight Manufacturer Commercial Name Type  Wheelbase  \\\n",
       "0                       1640          BMW         Z Reihe  Z85     2495.0   \n",
       "1                       1600          BMW         Z Reihe  Z85     2495.0   \n",
       "2                       1620          BMW         Z Reihe  Z85     2495.0   \n",
       "3                       1620          BMW         Z Reihe  Z85     2495.0   \n",
       "4                       1800          BMW       1er Reihe  187     2660.0   \n",
       "\n",
       "   Power/Weight Ratio  Seats  Fuel Code  max. Top Speed Fuel Type  \\\n",
       "0            0.139286      2          1           250.0    PETROL   \n",
       "1            0.095588      2          1           229.0    PETROL   \n",
       "2            0.116152      2          1           240.0    PETROL   \n",
       "3            0.112523      2          1           240.0    PETROL   \n",
       "4            0.077348      5          1           210.0    PETROL   \n",
       "\n",
       "  Commercial Name New  \n",
       "0             Z Reihe  \n",
       "1             Z Reihe  \n",
       "2             Z Reihe  \n",
       "3             Z Reihe  \n",
       "4                 NaN  "
      ]
     },
     "execution_count": 55,
     "metadata": {},
     "output_type": "execute_result"
    }
   ],
   "source": [
    "germ_data_modelname.head(5)"
   ]
  },
  {
   "cell_type": "code",
   "execution_count": 56,
   "id": "24ce5af6",
   "metadata": {},
   "outputs": [],
   "source": [
    "co2_data=pd.read_excel(r'ger-co2.xlsx', sheet_name= 'just_co2')\n",
    "co2_data1 = co2_data.dropna(how='all')"
   ]
  },
  {
   "cell_type": "code",
   "execution_count": 57,
   "id": "df8df580",
   "metadata": {},
   "outputs": [
    {
     "name": "stdout",
     "output_type": "stream",
     "text": [
      "<class 'pandas.core.frame.DataFrame'>\n",
      "Int64Index: 53655 entries, 0 to 53654\n",
      "Data columns (total 7 columns):\n",
      " #   Column           Non-Null Count  Dtype  \n",
      "---  ------           --------------  -----  \n",
      " 0   sl               53655 non-null  int64  \n",
      " 1   Type             51081 non-null  object \n",
      " 2   Make             36495 non-null  object \n",
      " 3   commercial name  50336 non-null  object \n",
      " 4   Fuel Type        53655 non-null  object \n",
      " 5   Enedc (g/km)     51574 non-null  float64\n",
      " 6   Ewltp (g/km)     0 non-null      float64\n",
      "dtypes: float64(2), int64(1), object(4)\n",
      "memory usage: 3.3+ MB\n"
     ]
    }
   ],
   "source": [
    "co2_data1.tail(2)\n",
    "co2_data1.info()"
   ]
  },
  {
   "cell_type": "code",
   "execution_count": 58,
   "id": "4673c76a",
   "metadata": {},
   "outputs": [
    {
     "data": {
      "text/html": [
       "<div>\n",
       "<style scoped>\n",
       "    .dataframe tbody tr th:only-of-type {\n",
       "        vertical-align: middle;\n",
       "    }\n",
       "\n",
       "    .dataframe tbody tr th {\n",
       "        vertical-align: top;\n",
       "    }\n",
       "\n",
       "    .dataframe thead th {\n",
       "        text-align: right;\n",
       "    }\n",
       "</style>\n",
       "<table border=\"1\" class=\"dataframe\">\n",
       "  <thead>\n",
       "    <tr style=\"text-align: right;\">\n",
       "      <th></th>\n",
       "      <th>Type</th>\n",
       "      <th>Make</th>\n",
       "      <th>commercial name</th>\n",
       "      <th>Enedc (g/km)</th>\n",
       "    </tr>\n",
       "  </thead>\n",
       "  <tbody>\n",
       "    <tr>\n",
       "      <th>0</th>\n",
       "      <td>0</td>\n",
       "      <td>CITROEN</td>\n",
       "      <td>C4 CACTUS</td>\n",
       "      <td>99.066667</td>\n",
       "    </tr>\n",
       "    <tr>\n",
       "      <th>1</th>\n",
       "      <td>0</td>\n",
       "      <td>PEUGEOT</td>\n",
       "      <td>5008</td>\n",
       "      <td>139.295455</td>\n",
       "    </tr>\n",
       "  </tbody>\n",
       "</table>\n",
       "</div>"
      ],
      "text/plain": [
       "  Type     Make commercial name  Enedc (g/km)\n",
       "0    0  CITROEN       C4 CACTUS     99.066667\n",
       "1    0  PEUGEOT            5008    139.295455"
      ]
     },
     "execution_count": 58,
     "metadata": {},
     "output_type": "execute_result"
    }
   ],
   "source": [
    "# aggregate co2 data by Type, Make, commercial name, get average of CO2\n",
    "co2_data_agg = co2_data.groupby(['Type','Make','commercial name'])['Enedc (g/km)'].mean().reset_index()\n",
    "# co2_data.groupby(['Type','Make','commercial name']).agg(avg_co2= ('Enedc (g/km)'))\n",
    "co2_data_agg.head(2)"
   ]
  },
  {
   "cell_type": "code",
   "execution_count": 60,
   "id": "98f9cbef",
   "metadata": {},
   "outputs": [
    {
     "data": {
      "text/html": [
       "<div>\n",
       "<style scoped>\n",
       "    .dataframe tbody tr th:only-of-type {\n",
       "        vertical-align: middle;\n",
       "    }\n",
       "\n",
       "    .dataframe tbody tr th {\n",
       "        vertical-align: top;\n",
       "    }\n",
       "\n",
       "    .dataframe thead th {\n",
       "        text-align: right;\n",
       "    }\n",
       "</style>\n",
       "<table border=\"1\" class=\"dataframe\">\n",
       "  <thead>\n",
       "    <tr style=\"text-align: right;\">\n",
       "      <th></th>\n",
       "      <th>Type</th>\n",
       "      <th>Make</th>\n",
       "      <th>commercial name</th>\n",
       "      <th>Enedc (g/km)</th>\n",
       "    </tr>\n",
       "  </thead>\n",
       "  <tbody>\n",
       "    <tr>\n",
       "      <th>8469</th>\n",
       "      <td>Z85</td>\n",
       "      <td>BMW</td>\n",
       "      <td>Z Reihe</td>\n",
       "      <td>198.333333</td>\n",
       "    </tr>\n",
       "    <tr>\n",
       "      <th>8470</th>\n",
       "      <td>Z85</td>\n",
       "      <td>BMW</td>\n",
       "      <td>ZREIHE</td>\n",
       "      <td>NaN</td>\n",
       "    </tr>\n",
       "  </tbody>\n",
       "</table>\n",
       "</div>"
      ],
      "text/plain": [
       "     Type Make commercial name  Enedc (g/km)\n",
       "8469  Z85  BMW         Z Reihe    198.333333\n",
       "8470  Z85  BMW          ZREIHE           NaN"
      ]
     },
     "execution_count": 60,
     "metadata": {},
     "output_type": "execute_result"
    }
   ],
   "source": [
    "co2_data_agg[co2_data_agg['Type']=='Z85']"
   ]
  },
  {
   "cell_type": "code",
   "execution_count": 61,
   "id": "95877758",
   "metadata": {},
   "outputs": [
    {
     "data": {
      "text/html": [
       "<div>\n",
       "<style scoped>\n",
       "    .dataframe tbody tr th:only-of-type {\n",
       "        vertical-align: middle;\n",
       "    }\n",
       "\n",
       "    .dataframe tbody tr th {\n",
       "        vertical-align: top;\n",
       "    }\n",
       "\n",
       "    .dataframe thead th {\n",
       "        text-align: right;\n",
       "    }\n",
       "</style>\n",
       "<table border=\"1\" class=\"dataframe\">\n",
       "  <thead>\n",
       "    <tr style=\"text-align: right;\">\n",
       "      <th></th>\n",
       "      <th>Unnamed: 0</th>\n",
       "      <th>Manufacturer Identification Number</th>\n",
       "      <th>Model Identification Numer</th>\n",
       "      <th>No. Of Driving Axles</th>\n",
       "      <th>max. Length</th>\n",
       "      <th>max. Width</th>\n",
       "      <th>max. Height</th>\n",
       "      <th>max. Gross Vehicle Weight</th>\n",
       "      <th>Manufacturer</th>\n",
       "      <th>Commercial Name</th>\n",
       "      <th>Type</th>\n",
       "      <th>Wheelbase</th>\n",
       "      <th>Power/Weight Ratio</th>\n",
       "      <th>Seats</th>\n",
       "      <th>Fuel Code</th>\n",
       "      <th>max. Top Speed</th>\n",
       "      <th>Fuel Type</th>\n",
       "      <th>Commercial Name New</th>\n",
       "    </tr>\n",
       "  </thead>\n",
       "  <tbody>\n",
       "    <tr>\n",
       "      <th>0</th>\n",
       "      <td>40</td>\n",
       "      <td>5</td>\n",
       "      <td>AAA</td>\n",
       "      <td>1.0</td>\n",
       "      <td>4091</td>\n",
       "      <td>1781</td>\n",
       "      <td>1299</td>\n",
       "      <td>1640</td>\n",
       "      <td>BMW</td>\n",
       "      <td>Z Reihe</td>\n",
       "      <td>Z85</td>\n",
       "      <td>2495.0</td>\n",
       "      <td>0.139286</td>\n",
       "      <td>2</td>\n",
       "      <td>1</td>\n",
       "      <td>250.0</td>\n",
       "      <td>PETROL</td>\n",
       "      <td>Z Reihe</td>\n",
       "    </tr>\n",
       "    <tr>\n",
       "      <th>1</th>\n",
       "      <td>41</td>\n",
       "      <td>5</td>\n",
       "      <td>AAB</td>\n",
       "      <td>1.0</td>\n",
       "      <td>4091</td>\n",
       "      <td>1781</td>\n",
       "      <td>1299</td>\n",
       "      <td>1600</td>\n",
       "      <td>BMW</td>\n",
       "      <td>Z Reihe</td>\n",
       "      <td>Z85</td>\n",
       "      <td>2495.0</td>\n",
       "      <td>0.095588</td>\n",
       "      <td>2</td>\n",
       "      <td>1</td>\n",
       "      <td>229.0</td>\n",
       "      <td>PETROL</td>\n",
       "      <td>Z Reihe</td>\n",
       "    </tr>\n",
       "    <tr>\n",
       "      <th>2</th>\n",
       "      <td>42</td>\n",
       "      <td>5</td>\n",
       "      <td>AAC</td>\n",
       "      <td>1.0</td>\n",
       "      <td>4091</td>\n",
       "      <td>1781</td>\n",
       "      <td>1299</td>\n",
       "      <td>1620</td>\n",
       "      <td>BMW</td>\n",
       "      <td>Z Reihe</td>\n",
       "      <td>Z85</td>\n",
       "      <td>2495.0</td>\n",
       "      <td>0.116152</td>\n",
       "      <td>2</td>\n",
       "      <td>1</td>\n",
       "      <td>240.0</td>\n",
       "      <td>PETROL</td>\n",
       "      <td>Z Reihe</td>\n",
       "    </tr>\n",
       "    <tr>\n",
       "      <th>3</th>\n",
       "      <td>43</td>\n",
       "      <td>5</td>\n",
       "      <td>AAD</td>\n",
       "      <td>1.0</td>\n",
       "      <td>4091</td>\n",
       "      <td>1781</td>\n",
       "      <td>1299</td>\n",
       "      <td>1620</td>\n",
       "      <td>BMW</td>\n",
       "      <td>Z Reihe</td>\n",
       "      <td>Z85</td>\n",
       "      <td>2495.0</td>\n",
       "      <td>0.112523</td>\n",
       "      <td>2</td>\n",
       "      <td>1</td>\n",
       "      <td>240.0</td>\n",
       "      <td>PETROL</td>\n",
       "      <td>Z Reihe</td>\n",
       "    </tr>\n",
       "    <tr>\n",
       "      <th>5</th>\n",
       "      <td>45</td>\n",
       "      <td>5</td>\n",
       "      <td>AAF</td>\n",
       "      <td>1.0</td>\n",
       "      <td>4091</td>\n",
       "      <td>1781</td>\n",
       "      <td>1283</td>\n",
       "      <td>1680</td>\n",
       "      <td>BMW</td>\n",
       "      <td>Z Reihe</td>\n",
       "      <td>Z85</td>\n",
       "      <td>2495.0</td>\n",
       "      <td>0.138298</td>\n",
       "      <td>2</td>\n",
       "      <td>1</td>\n",
       "      <td>250.0</td>\n",
       "      <td>PETROL</td>\n",
       "      <td>Z Reihe</td>\n",
       "    </tr>\n",
       "    <tr>\n",
       "      <th>10</th>\n",
       "      <td>59</td>\n",
       "      <td>5</td>\n",
       "      <td>AAT</td>\n",
       "      <td>1.0</td>\n",
       "      <td>4091</td>\n",
       "      <td>1781</td>\n",
       "      <td>1299</td>\n",
       "      <td>1520</td>\n",
       "      <td>BMW</td>\n",
       "      <td>Z Reihe</td>\n",
       "      <td>Z85</td>\n",
       "      <td>2495.0</td>\n",
       "      <td>0.084942</td>\n",
       "      <td>2</td>\n",
       "      <td>1</td>\n",
       "      <td>220.0</td>\n",
       "      <td>PETROL</td>\n",
       "      <td>Z Reihe</td>\n",
       "    </tr>\n",
       "  </tbody>\n",
       "</table>\n",
       "</div>"
      ],
      "text/plain": [
       "    Unnamed: 0  Manufacturer Identification Number Model Identification Numer  \\\n",
       "0           40                                   5                        AAA   \n",
       "1           41                                   5                        AAB   \n",
       "2           42                                   5                        AAC   \n",
       "3           43                                   5                        AAD   \n",
       "5           45                                   5                        AAF   \n",
       "10          59                                   5                        AAT   \n",
       "\n",
       "    No. Of Driving Axles  max. Length  max. Width  max. Height  \\\n",
       "0                    1.0         4091        1781         1299   \n",
       "1                    1.0         4091        1781         1299   \n",
       "2                    1.0         4091        1781         1299   \n",
       "3                    1.0         4091        1781         1299   \n",
       "5                    1.0         4091        1781         1283   \n",
       "10                   1.0         4091        1781         1299   \n",
       "\n",
       "    max. Gross Vehicle Weight Manufacturer Commercial Name Type  Wheelbase  \\\n",
       "0                        1640          BMW         Z Reihe  Z85     2495.0   \n",
       "1                        1600          BMW         Z Reihe  Z85     2495.0   \n",
       "2                        1620          BMW         Z Reihe  Z85     2495.0   \n",
       "3                        1620          BMW         Z Reihe  Z85     2495.0   \n",
       "5                        1680          BMW         Z Reihe  Z85     2495.0   \n",
       "10                       1520          BMW         Z Reihe  Z85     2495.0   \n",
       "\n",
       "    Power/Weight Ratio  Seats  Fuel Code  max. Top Speed Fuel Type  \\\n",
       "0             0.139286      2          1           250.0    PETROL   \n",
       "1             0.095588      2          1           229.0    PETROL   \n",
       "2             0.116152      2          1           240.0    PETROL   \n",
       "3             0.112523      2          1           240.0    PETROL   \n",
       "5             0.138298      2          1           250.0    PETROL   \n",
       "10            0.084942      2          1           220.0    PETROL   \n",
       "\n",
       "   Commercial Name New  \n",
       "0              Z Reihe  \n",
       "1              Z Reihe  \n",
       "2              Z Reihe  \n",
       "3              Z Reihe  \n",
       "5              Z Reihe  \n",
       "10             Z Reihe  "
      ]
     },
     "execution_count": 61,
     "metadata": {},
     "output_type": "execute_result"
    }
   ],
   "source": [
    "germ_data_modelname[germ_data_modelname['Type']=='Z85']"
   ]
  },
  {
   "cell_type": "code",
   "execution_count": 62,
   "id": "c5e7c22e",
   "metadata": {},
   "outputs": [
    {
     "data": {
      "text/plain": [
       "34128"
      ]
     },
     "execution_count": 62,
     "metadata": {},
     "output_type": "execute_result"
    }
   ],
   "source": [
    "co2_data_agg.size"
   ]
  },
  {
   "cell_type": "code",
   "execution_count": 63,
   "id": "a1055682",
   "metadata": {},
   "outputs": [
    {
     "data": {
      "text/html": [
       "<div>\n",
       "<style scoped>\n",
       "    .dataframe tbody tr th:only-of-type {\n",
       "        vertical-align: middle;\n",
       "    }\n",
       "\n",
       "    .dataframe tbody tr th {\n",
       "        vertical-align: top;\n",
       "    }\n",
       "\n",
       "    .dataframe thead th {\n",
       "        text-align: right;\n",
       "    }\n",
       "</style>\n",
       "<table border=\"1\" class=\"dataframe\">\n",
       "  <thead>\n",
       "    <tr style=\"text-align: right;\">\n",
       "      <th></th>\n",
       "      <th>Type</th>\n",
       "      <th>Manufacturer</th>\n",
       "      <th>Commercial Name New</th>\n",
       "      <th>Enedc (g/km)</th>\n",
       "    </tr>\n",
       "  </thead>\n",
       "  <tbody>\n",
       "    <tr>\n",
       "      <th>0</th>\n",
       "      <td>0</td>\n",
       "      <td>CITROEN</td>\n",
       "      <td>C4 CACTUS</td>\n",
       "      <td>99.066667</td>\n",
       "    </tr>\n",
       "    <tr>\n",
       "      <th>1</th>\n",
       "      <td>0</td>\n",
       "      <td>PEUGEOT</td>\n",
       "      <td>5008</td>\n",
       "      <td>139.295455</td>\n",
       "    </tr>\n",
       "    <tr>\n",
       "      <th>2</th>\n",
       "      <td>2</td>\n",
       "      <td>CITROEN</td>\n",
       "      <td>C3 AIRCROSS</td>\n",
       "      <td>129.000000</td>\n",
       "    </tr>\n",
       "    <tr>\n",
       "      <th>3</th>\n",
       "      <td>2</td>\n",
       "      <td>PEUGEOT</td>\n",
       "      <td>206+</td>\n",
       "      <td>125.333333</td>\n",
       "    </tr>\n",
       "    <tr>\n",
       "      <th>4</th>\n",
       "      <td>2</td>\n",
       "      <td>RENAULT</td>\n",
       "      <td>CAPTUR</td>\n",
       "      <td>144.000000</td>\n",
       "    </tr>\n",
       "    <tr>\n",
       "      <th>5</th>\n",
       "      <td>3</td>\n",
       "      <td></td>\n",
       "      <td>C4PICASSO</td>\n",
       "      <td>117.000000</td>\n",
       "    </tr>\n",
       "    <tr>\n",
       "      <th>6</th>\n",
       "      <td>3</td>\n",
       "      <td>CITROEN</td>\n",
       "      <td>C4 GRAND PICASSO</td>\n",
       "      <td>117.000000</td>\n",
       "    </tr>\n",
       "    <tr>\n",
       "      <th>7</th>\n",
       "      <td>3</td>\n",
       "      <td>CITROEN</td>\n",
       "      <td>C4 PICASSO</td>\n",
       "      <td>117.838710</td>\n",
       "    </tr>\n",
       "    <tr>\n",
       "      <th>8</th>\n",
       "      <td>4</td>\n",
       "      <td></td>\n",
       "      <td>A6LIMOUSINE2.0TFSI</td>\n",
       "      <td>166.000000</td>\n",
       "    </tr>\n",
       "    <tr>\n",
       "      <th>9</th>\n",
       "      <td>4</td>\n",
       "      <td></td>\n",
       "      <td>A6LIMOUSINE3.0TDI</td>\n",
       "      <td>156.000000</td>\n",
       "    </tr>\n",
       "    <tr>\n",
       "      <th>10</th>\n",
       "      <td>4</td>\n",
       "      <td></td>\n",
       "      <td>A7SPORTBACK3.0TFSI</td>\n",
       "      <td>190.000000</td>\n",
       "    </tr>\n",
       "    <tr>\n",
       "      <th>11</th>\n",
       "      <td>4</td>\n",
       "      <td></td>\n",
       "      <td>AUDIA62.0TFSI</td>\n",
       "      <td>156.500000</td>\n",
       "    </tr>\n",
       "    <tr>\n",
       "      <th>12</th>\n",
       "      <td>4</td>\n",
       "      <td></td>\n",
       "      <td>AUDIA63.0QUATTRO</td>\n",
       "      <td>190.000000</td>\n",
       "    </tr>\n",
       "    <tr>\n",
       "      <th>13</th>\n",
       "      <td>4</td>\n",
       "      <td></td>\n",
       "      <td>AUDIA63.0TDI</td>\n",
       "      <td>156.000000</td>\n",
       "    </tr>\n",
       "    <tr>\n",
       "      <th>14</th>\n",
       "      <td>4</td>\n",
       "      <td></td>\n",
       "      <td>AUDIA63.0TFSI</td>\n",
       "      <td>190.000000</td>\n",
       "    </tr>\n",
       "    <tr>\n",
       "      <th>15</th>\n",
       "      <td>4</td>\n",
       "      <td></td>\n",
       "      <td>AUDIA7SPORTBACK3.0TDI</td>\n",
       "      <td>173.000000</td>\n",
       "    </tr>\n",
       "    <tr>\n",
       "      <th>16</th>\n",
       "      <td>4</td>\n",
       "      <td></td>\n",
       "      <td>AUDIA7SPORTBACK3.0TFSI</td>\n",
       "      <td>190.000000</td>\n",
       "    </tr>\n",
       "    <tr>\n",
       "      <th>17</th>\n",
       "      <td>4</td>\n",
       "      <td></td>\n",
       "      <td>AUDIRS7SPORTBACK4.0TFSI</td>\n",
       "      <td>229.000000</td>\n",
       "    </tr>\n",
       "    <tr>\n",
       "      <th>18</th>\n",
       "      <td>4</td>\n",
       "      <td></td>\n",
       "      <td>AUDIS64.0TFSI</td>\n",
       "      <td>225.000000</td>\n",
       "    </tr>\n",
       "    <tr>\n",
       "      <th>19</th>\n",
       "      <td>4</td>\n",
       "      <td></td>\n",
       "      <td>AUDIS7SPORTBACK4.0TFSI</td>\n",
       "      <td>225.000000</td>\n",
       "    </tr>\n",
       "  </tbody>\n",
       "</table>\n",
       "</div>"
      ],
      "text/plain": [
       "   Type Manufacturer      Commercial Name New  Enedc (g/km)\n",
       "0     0      CITROEN                C4 CACTUS     99.066667\n",
       "1     0      PEUGEOT                     5008    139.295455\n",
       "2     2      CITROEN              C3 AIRCROSS    129.000000\n",
       "3     2      PEUGEOT                     206+    125.333333\n",
       "4     2      RENAULT                   CAPTUR    144.000000\n",
       "5     3                             C4PICASSO    117.000000\n",
       "6     3      CITROEN         C4 GRAND PICASSO    117.000000\n",
       "7     3      CITROEN               C4 PICASSO    117.838710\n",
       "8     4                    A6LIMOUSINE2.0TFSI    166.000000\n",
       "9     4                     A6LIMOUSINE3.0TDI    156.000000\n",
       "10    4                    A7SPORTBACK3.0TFSI    190.000000\n",
       "11    4                         AUDIA62.0TFSI    156.500000\n",
       "12    4                      AUDIA63.0QUATTRO    190.000000\n",
       "13    4                          AUDIA63.0TDI    156.000000\n",
       "14    4                         AUDIA63.0TFSI    190.000000\n",
       "15    4                 AUDIA7SPORTBACK3.0TDI    173.000000\n",
       "16    4                AUDIA7SPORTBACK3.0TFSI    190.000000\n",
       "17    4               AUDIRS7SPORTBACK4.0TFSI    229.000000\n",
       "18    4                         AUDIS64.0TFSI    225.000000\n",
       "19    4                AUDIS7SPORTBACK4.0TFSI    225.000000"
      ]
     },
     "execution_count": 63,
     "metadata": {},
     "output_type": "execute_result"
    }
   ],
   "source": [
    "co2_data_agg.rename(columns={'Make': 'Manufacturer', 'commercial name':'Commercial Name New'}, inplace=True)\n",
    "co2_data_agg.head(20)"
   ]
  },
  {
   "cell_type": "code",
   "execution_count": 87,
   "id": "66209639",
   "metadata": {},
   "outputs": [],
   "source": [
    "germ_data_2 = pd.merge(germ_data_modelname, co2_data_agg, how='left', on=['Type', 'Manufacturer', 'Commercial Name New'])"
   ]
  },
  {
   "cell_type": "code",
   "execution_count": 88,
   "id": "b7d39cdf",
   "metadata": {},
   "outputs": [
    {
     "data": {
      "text/plain": [
       "(8043, 19)"
      ]
     },
     "execution_count": 88,
     "metadata": {},
     "output_type": "execute_result"
    }
   ],
   "source": [
    "germ_data_2.shape"
   ]
  },
  {
   "cell_type": "code",
   "execution_count": 89,
   "id": "4eeeea1d",
   "metadata": {},
   "outputs": [],
   "source": [
    "germ_data_2.to_csv('germ_with_co2.csv')"
   ]
  },
  {
   "cell_type": "code",
   "execution_count": null,
   "id": "1874b561",
   "metadata": {},
   "outputs": [],
   "source": []
  }
 ],
 "metadata": {
  "kernelspec": {
   "display_name": "Python 3.7.6 ('base': conda)",
   "language": "python",
   "name": "python3"
  },
  "language_info": {
   "codemirror_mode": {
    "name": "ipython",
    "version": 3
   },
   "file_extension": ".py",
   "mimetype": "text/x-python",
   "name": "python",
   "nbconvert_exporter": "python",
   "pygments_lexer": "ipython3",
   "version": "3.7.6"
  },
  "vscode": {
   "interpreter": {
    "hash": "2123271dd6084e9be1c049e5cc8d6f089f69b931459870c291bc3690ef7dd871"
   }
  }
 },
 "nbformat": 4,
 "nbformat_minor": 5
}
